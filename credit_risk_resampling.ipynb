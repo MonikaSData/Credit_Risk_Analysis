{
  "nbformat": 4,
  "nbformat_minor": 0,
  "metadata": {
    "kernelspec": {
      "display_name": "mlenv",
      "language": "python",
      "name": "mlenv"
    },
    "language_info": {
      "codemirror_mode": {
        "name": "ipython",
        "version": 3
      },
      "file_extension": ".py",
      "mimetype": "text/x-python",
      "name": "python",
      "nbconvert_exporter": "python",
      "pygments_lexer": "ipython3",
      "version": "3.8.3"
    },
    "colab": {
      "name": "credit_risk_resampling.ipynb",
      "provenance": [],
      "collapsed_sections": [],
      "toc_visible": true
    }
  },
  "cells": [
    {
      "cell_type": "markdown",
      "metadata": {
        "id": "UXmrg8omZckG"
      },
      "source": [
        "# Credit Risk Resampling Techniques"
      ]
    },
    {
      "cell_type": "code",
      "metadata": {
        "id": "o5vC4yX5ZckO"
      },
      "source": [
        "import warnings\n",
        "warnings.filterwarnings('ignore')"
      ],
      "execution_count": 33,
      "outputs": []
    },
    {
      "cell_type": "code",
      "metadata": {
        "id": "oED5M2KlZckP"
      },
      "source": [
        "import numpy as np\n",
        "import pandas as pd\n",
        "from pathlib import Path\n",
        "from collections import Counter"
      ],
      "execution_count": 34,
      "outputs": []
    },
    {
      "cell_type": "markdown",
      "metadata": {
        "id": "DPXwdJgxZckP"
      },
      "source": [
        "# Read the CSV and Perform Basic Data Cleaning"
      ]
    },
    {
      "cell_type": "code",
      "metadata": {
        "id": "V7XDpp9RZckP"
      },
      "source": [
        "columns = [\n",
        "    \"loan_amnt\", \"int_rate\", \"installment\", \"home_ownership\",\n",
        "    \"annual_inc\", \"verification_status\", \"issue_d\", \"loan_status\",\n",
        "    \"pymnt_plan\", \"dti\", \"delinq_2yrs\", \"inq_last_6mths\",\n",
        "    \"open_acc\", \"pub_rec\", \"revol_bal\", \"total_acc\",\n",
        "    \"initial_list_status\", \"out_prncp\", \"out_prncp_inv\", \"total_pymnt\",\n",
        "    \"total_pymnt_inv\", \"total_rec_prncp\", \"total_rec_int\", \"total_rec_late_fee\",\n",
        "    \"recoveries\", \"collection_recovery_fee\", \"last_pymnt_amnt\", \"next_pymnt_d\",\n",
        "    \"collections_12_mths_ex_med\", \"policy_code\", \"application_type\", \"acc_now_delinq\",\n",
        "    \"tot_coll_amt\", \"tot_cur_bal\", \"open_acc_6m\", \"open_act_il\",\n",
        "    \"open_il_12m\", \"open_il_24m\", \"mths_since_rcnt_il\", \"total_bal_il\",\n",
        "    \"il_util\", \"open_rv_12m\", \"open_rv_24m\", \"max_bal_bc\",\n",
        "    \"all_util\", \"total_rev_hi_lim\", \"inq_fi\", \"total_cu_tl\",\n",
        "    \"inq_last_12m\", \"acc_open_past_24mths\", \"avg_cur_bal\", \"bc_open_to_buy\",\n",
        "    \"bc_util\", \"chargeoff_within_12_mths\", \"delinq_amnt\", \"mo_sin_old_il_acct\",\n",
        "    \"mo_sin_old_rev_tl_op\", \"mo_sin_rcnt_rev_tl_op\", \"mo_sin_rcnt_tl\", \"mort_acc\",\n",
        "    \"mths_since_recent_bc\", \"mths_since_recent_inq\", \"num_accts_ever_120_pd\", \"num_actv_bc_tl\",\n",
        "    \"num_actv_rev_tl\", \"num_bc_sats\", \"num_bc_tl\", \"num_il_tl\",\n",
        "    \"num_op_rev_tl\", \"num_rev_accts\", \"num_rev_tl_bal_gt_0\",\n",
        "    \"num_sats\", \"num_tl_120dpd_2m\", \"num_tl_30dpd\", \"num_tl_90g_dpd_24m\",\n",
        "    \"num_tl_op_past_12m\", \"pct_tl_nvr_dlq\", \"percent_bc_gt_75\", \"pub_rec_bankruptcies\",\n",
        "    \"tax_liens\", \"tot_hi_cred_lim\", \"total_bal_ex_mort\", \"total_bc_limit\",\n",
        "    \"total_il_high_credit_limit\", \"hardship_flag\", \"debt_settlement_flag\"\n",
        "]\n",
        "\n",
        "target = [\"loan_status\"]"
      ],
      "execution_count": 35,
      "outputs": []
    },
    {
      "cell_type": "code",
      "metadata": {
        "colab": {
          "base_uri": "https://localhost:8080/",
          "height": 338
        },
        "id": "mYqszlSbZckQ",
        "outputId": "f5b1c438-d2da-42b1-b42f-7a926f9ec4a7"
      },
      "source": [
        "# Load the data\n",
        "url = 'https://raw.githubusercontent.com/MonikaSData/Credit_Risk_Analysis/main/LoanStats_2019Q1.csv'\n",
        "#df = pd.read_csv(url)\n",
        "#file_path = Path('https://github.com/MonikaSData/Credit_Risk_Analysis/blob/main/LoanStats_2019Q1.csv')\n",
        "df = pd.read_csv(url, skiprows=1)[:-2]\n",
        "df = df.loc[:, columns].copy()\n",
        "\n",
        "# Drop the null columns where all values are null\n",
        "df = df.dropna(axis='columns', how='all')\n",
        "\n",
        "# Drop the null rows\n",
        "df = df.dropna()\n",
        "\n",
        "# Remove the `Issued` loan status\n",
        "issued_mask = df['loan_status'] != 'Issued'\n",
        "df = df.loc[issued_mask]\n",
        "\n",
        "# convert interest rate to numerical\n",
        "df['int_rate'] = df['int_rate'].str.replace('%', '')\n",
        "df['int_rate'] = df['int_rate'].astype('float') / 100\n",
        "\n",
        "\n",
        "# Convert the target column values to low_risk and high_risk based on their values\n",
        "x = {'Current': 'low_risk'}   \n",
        "df = df.replace(x)\n",
        "\n",
        "x = dict.fromkeys(['Late (31-120 days)', 'Late (16-30 days)', 'Default', 'In Grace Period'], 'high_risk')    \n",
        "df = df.replace(x)\n",
        "\n",
        "df.reset_index(inplace=True, drop=True)\n",
        "\n",
        "df.head()"
      ],
      "execution_count": 36,
      "outputs": [
        {
          "output_type": "execute_result",
          "data": {
            "text/html": [
              "<div>\n",
              "<style scoped>\n",
              "    .dataframe tbody tr th:only-of-type {\n",
              "        vertical-align: middle;\n",
              "    }\n",
              "\n",
              "    .dataframe tbody tr th {\n",
              "        vertical-align: top;\n",
              "    }\n",
              "\n",
              "    .dataframe thead th {\n",
              "        text-align: right;\n",
              "    }\n",
              "</style>\n",
              "<table border=\"1\" class=\"dataframe\">\n",
              "  <thead>\n",
              "    <tr style=\"text-align: right;\">\n",
              "      <th></th>\n",
              "      <th>loan_amnt</th>\n",
              "      <th>int_rate</th>\n",
              "      <th>installment</th>\n",
              "      <th>home_ownership</th>\n",
              "      <th>annual_inc</th>\n",
              "      <th>verification_status</th>\n",
              "      <th>issue_d</th>\n",
              "      <th>loan_status</th>\n",
              "      <th>pymnt_plan</th>\n",
              "      <th>dti</th>\n",
              "      <th>delinq_2yrs</th>\n",
              "      <th>inq_last_6mths</th>\n",
              "      <th>open_acc</th>\n",
              "      <th>pub_rec</th>\n",
              "      <th>revol_bal</th>\n",
              "      <th>total_acc</th>\n",
              "      <th>initial_list_status</th>\n",
              "      <th>out_prncp</th>\n",
              "      <th>out_prncp_inv</th>\n",
              "      <th>total_pymnt</th>\n",
              "      <th>total_pymnt_inv</th>\n",
              "      <th>total_rec_prncp</th>\n",
              "      <th>total_rec_int</th>\n",
              "      <th>total_rec_late_fee</th>\n",
              "      <th>recoveries</th>\n",
              "      <th>collection_recovery_fee</th>\n",
              "      <th>last_pymnt_amnt</th>\n",
              "      <th>next_pymnt_d</th>\n",
              "      <th>collections_12_mths_ex_med</th>\n",
              "      <th>policy_code</th>\n",
              "      <th>application_type</th>\n",
              "      <th>acc_now_delinq</th>\n",
              "      <th>tot_coll_amt</th>\n",
              "      <th>tot_cur_bal</th>\n",
              "      <th>open_acc_6m</th>\n",
              "      <th>open_act_il</th>\n",
              "      <th>open_il_12m</th>\n",
              "      <th>open_il_24m</th>\n",
              "      <th>mths_since_rcnt_il</th>\n",
              "      <th>total_bal_il</th>\n",
              "      <th>...</th>\n",
              "      <th>inq_fi</th>\n",
              "      <th>total_cu_tl</th>\n",
              "      <th>inq_last_12m</th>\n",
              "      <th>acc_open_past_24mths</th>\n",
              "      <th>avg_cur_bal</th>\n",
              "      <th>bc_open_to_buy</th>\n",
              "      <th>bc_util</th>\n",
              "      <th>chargeoff_within_12_mths</th>\n",
              "      <th>delinq_amnt</th>\n",
              "      <th>mo_sin_old_il_acct</th>\n",
              "      <th>mo_sin_old_rev_tl_op</th>\n",
              "      <th>mo_sin_rcnt_rev_tl_op</th>\n",
              "      <th>mo_sin_rcnt_tl</th>\n",
              "      <th>mort_acc</th>\n",
              "      <th>mths_since_recent_bc</th>\n",
              "      <th>mths_since_recent_inq</th>\n",
              "      <th>num_accts_ever_120_pd</th>\n",
              "      <th>num_actv_bc_tl</th>\n",
              "      <th>num_actv_rev_tl</th>\n",
              "      <th>num_bc_sats</th>\n",
              "      <th>num_bc_tl</th>\n",
              "      <th>num_il_tl</th>\n",
              "      <th>num_op_rev_tl</th>\n",
              "      <th>num_rev_accts</th>\n",
              "      <th>num_rev_tl_bal_gt_0</th>\n",
              "      <th>num_sats</th>\n",
              "      <th>num_tl_120dpd_2m</th>\n",
              "      <th>num_tl_30dpd</th>\n",
              "      <th>num_tl_90g_dpd_24m</th>\n",
              "      <th>num_tl_op_past_12m</th>\n",
              "      <th>pct_tl_nvr_dlq</th>\n",
              "      <th>percent_bc_gt_75</th>\n",
              "      <th>pub_rec_bankruptcies</th>\n",
              "      <th>tax_liens</th>\n",
              "      <th>tot_hi_cred_lim</th>\n",
              "      <th>total_bal_ex_mort</th>\n",
              "      <th>total_bc_limit</th>\n",
              "      <th>total_il_high_credit_limit</th>\n",
              "      <th>hardship_flag</th>\n",
              "      <th>debt_settlement_flag</th>\n",
              "    </tr>\n",
              "  </thead>\n",
              "  <tbody>\n",
              "    <tr>\n",
              "      <th>0</th>\n",
              "      <td>10500.0</td>\n",
              "      <td>0.1719</td>\n",
              "      <td>375.35</td>\n",
              "      <td>RENT</td>\n",
              "      <td>66000.0</td>\n",
              "      <td>Source Verified</td>\n",
              "      <td>Mar-2019</td>\n",
              "      <td>low_risk</td>\n",
              "      <td>n</td>\n",
              "      <td>27.24</td>\n",
              "      <td>0.0</td>\n",
              "      <td>0.0</td>\n",
              "      <td>8.0</td>\n",
              "      <td>0.0</td>\n",
              "      <td>1609.0</td>\n",
              "      <td>14.0</td>\n",
              "      <td>w</td>\n",
              "      <td>10204.87</td>\n",
              "      <td>10204.87</td>\n",
              "      <td>355.29</td>\n",
              "      <td>355.29</td>\n",
              "      <td>295.13</td>\n",
              "      <td>60.16</td>\n",
              "      <td>0.0</td>\n",
              "      <td>0.0</td>\n",
              "      <td>0.0</td>\n",
              "      <td>375.35</td>\n",
              "      <td>May-2019</td>\n",
              "      <td>0.0</td>\n",
              "      <td>1.0</td>\n",
              "      <td>Individual</td>\n",
              "      <td>0.0</td>\n",
              "      <td>178.0</td>\n",
              "      <td>38199.0</td>\n",
              "      <td>3.0</td>\n",
              "      <td>4.0</td>\n",
              "      <td>2.0</td>\n",
              "      <td>4.0</td>\n",
              "      <td>3.0</td>\n",
              "      <td>36590.0</td>\n",
              "      <td>...</td>\n",
              "      <td>1.0</td>\n",
              "      <td>0.0</td>\n",
              "      <td>4.0</td>\n",
              "      <td>6.0</td>\n",
              "      <td>4775.0</td>\n",
              "      <td>447.0</td>\n",
              "      <td>77.7</td>\n",
              "      <td>0.0</td>\n",
              "      <td>0.0</td>\n",
              "      <td>93.0</td>\n",
              "      <td>96.0</td>\n",
              "      <td>3.0</td>\n",
              "      <td>3.0</td>\n",
              "      <td>0.0</td>\n",
              "      <td>20.0</td>\n",
              "      <td>1.0</td>\n",
              "      <td>0.0</td>\n",
              "      <td>1.0</td>\n",
              "      <td>2.0</td>\n",
              "      <td>1.0</td>\n",
              "      <td>1.0</td>\n",
              "      <td>10.0</td>\n",
              "      <td>3.0</td>\n",
              "      <td>3.0</td>\n",
              "      <td>2.0</td>\n",
              "      <td>8.0</td>\n",
              "      <td>0.0</td>\n",
              "      <td>0.0</td>\n",
              "      <td>0.0</td>\n",
              "      <td>3.0</td>\n",
              "      <td>85.7</td>\n",
              "      <td>100.0</td>\n",
              "      <td>0.0</td>\n",
              "      <td>0.0</td>\n",
              "      <td>65687.0</td>\n",
              "      <td>38199.0</td>\n",
              "      <td>2000.0</td>\n",
              "      <td>61987.0</td>\n",
              "      <td>N</td>\n",
              "      <td>N</td>\n",
              "    </tr>\n",
              "    <tr>\n",
              "      <th>1</th>\n",
              "      <td>25000.0</td>\n",
              "      <td>0.2000</td>\n",
              "      <td>929.09</td>\n",
              "      <td>MORTGAGE</td>\n",
              "      <td>105000.0</td>\n",
              "      <td>Verified</td>\n",
              "      <td>Mar-2019</td>\n",
              "      <td>low_risk</td>\n",
              "      <td>n</td>\n",
              "      <td>20.23</td>\n",
              "      <td>0.0</td>\n",
              "      <td>0.0</td>\n",
              "      <td>17.0</td>\n",
              "      <td>1.0</td>\n",
              "      <td>18368.0</td>\n",
              "      <td>34.0</td>\n",
              "      <td>w</td>\n",
              "      <td>24293.13</td>\n",
              "      <td>24293.13</td>\n",
              "      <td>873.53</td>\n",
              "      <td>873.53</td>\n",
              "      <td>706.87</td>\n",
              "      <td>166.66</td>\n",
              "      <td>0.0</td>\n",
              "      <td>0.0</td>\n",
              "      <td>0.0</td>\n",
              "      <td>929.09</td>\n",
              "      <td>May-2019</td>\n",
              "      <td>0.0</td>\n",
              "      <td>1.0</td>\n",
              "      <td>Individual</td>\n",
              "      <td>0.0</td>\n",
              "      <td>165.0</td>\n",
              "      <td>228119.0</td>\n",
              "      <td>3.0</td>\n",
              "      <td>3.0</td>\n",
              "      <td>2.0</td>\n",
              "      <td>3.0</td>\n",
              "      <td>4.0</td>\n",
              "      <td>42273.0</td>\n",
              "      <td>...</td>\n",
              "      <td>4.0</td>\n",
              "      <td>9.0</td>\n",
              "      <td>3.0</td>\n",
              "      <td>13.0</td>\n",
              "      <td>13419.0</td>\n",
              "      <td>29502.0</td>\n",
              "      <td>28.4</td>\n",
              "      <td>0.0</td>\n",
              "      <td>0.0</td>\n",
              "      <td>87.0</td>\n",
              "      <td>286.0</td>\n",
              "      <td>1.0</td>\n",
              "      <td>1.0</td>\n",
              "      <td>2.0</td>\n",
              "      <td>1.0</td>\n",
              "      <td>11.0</td>\n",
              "      <td>3.0</td>\n",
              "      <td>7.0</td>\n",
              "      <td>11.0</td>\n",
              "      <td>8.0</td>\n",
              "      <td>13.0</td>\n",
              "      <td>14.0</td>\n",
              "      <td>13.0</td>\n",
              "      <td>18.0</td>\n",
              "      <td>11.0</td>\n",
              "      <td>17.0</td>\n",
              "      <td>0.0</td>\n",
              "      <td>0.0</td>\n",
              "      <td>0.0</td>\n",
              "      <td>6.0</td>\n",
              "      <td>91.2</td>\n",
              "      <td>50.0</td>\n",
              "      <td>1.0</td>\n",
              "      <td>0.0</td>\n",
              "      <td>271427.0</td>\n",
              "      <td>60641.0</td>\n",
              "      <td>41200.0</td>\n",
              "      <td>49197.0</td>\n",
              "      <td>N</td>\n",
              "      <td>N</td>\n",
              "    </tr>\n",
              "    <tr>\n",
              "      <th>2</th>\n",
              "      <td>20000.0</td>\n",
              "      <td>0.2000</td>\n",
              "      <td>529.88</td>\n",
              "      <td>MORTGAGE</td>\n",
              "      <td>56000.0</td>\n",
              "      <td>Verified</td>\n",
              "      <td>Mar-2019</td>\n",
              "      <td>low_risk</td>\n",
              "      <td>n</td>\n",
              "      <td>24.26</td>\n",
              "      <td>0.0</td>\n",
              "      <td>0.0</td>\n",
              "      <td>8.0</td>\n",
              "      <td>0.0</td>\n",
              "      <td>13247.0</td>\n",
              "      <td>21.0</td>\n",
              "      <td>w</td>\n",
              "      <td>19636.79</td>\n",
              "      <td>19636.79</td>\n",
              "      <td>485.44</td>\n",
              "      <td>485.44</td>\n",
              "      <td>363.21</td>\n",
              "      <td>122.23</td>\n",
              "      <td>0.0</td>\n",
              "      <td>0.0</td>\n",
              "      <td>0.0</td>\n",
              "      <td>529.88</td>\n",
              "      <td>May-2019</td>\n",
              "      <td>0.0</td>\n",
              "      <td>1.0</td>\n",
              "      <td>Individual</td>\n",
              "      <td>0.0</td>\n",
              "      <td>0.0</td>\n",
              "      <td>45684.0</td>\n",
              "      <td>2.0</td>\n",
              "      <td>3.0</td>\n",
              "      <td>2.0</td>\n",
              "      <td>3.0</td>\n",
              "      <td>4.0</td>\n",
              "      <td>32437.0</td>\n",
              "      <td>...</td>\n",
              "      <td>0.0</td>\n",
              "      <td>4.0</td>\n",
              "      <td>1.0</td>\n",
              "      <td>6.0</td>\n",
              "      <td>5711.0</td>\n",
              "      <td>2839.0</td>\n",
              "      <td>62.1</td>\n",
              "      <td>0.0</td>\n",
              "      <td>0.0</td>\n",
              "      <td>159.0</td>\n",
              "      <td>156.0</td>\n",
              "      <td>7.0</td>\n",
              "      <td>4.0</td>\n",
              "      <td>0.0</td>\n",
              "      <td>7.0</td>\n",
              "      <td>7.0</td>\n",
              "      <td>6.0</td>\n",
              "      <td>2.0</td>\n",
              "      <td>5.0</td>\n",
              "      <td>2.0</td>\n",
              "      <td>7.0</td>\n",
              "      <td>8.0</td>\n",
              "      <td>5.0</td>\n",
              "      <td>13.0</td>\n",
              "      <td>5.0</td>\n",
              "      <td>8.0</td>\n",
              "      <td>0.0</td>\n",
              "      <td>0.0</td>\n",
              "      <td>0.0</td>\n",
              "      <td>4.0</td>\n",
              "      <td>66.7</td>\n",
              "      <td>50.0</td>\n",
              "      <td>0.0</td>\n",
              "      <td>0.0</td>\n",
              "      <td>60644.0</td>\n",
              "      <td>45684.0</td>\n",
              "      <td>7500.0</td>\n",
              "      <td>43144.0</td>\n",
              "      <td>N</td>\n",
              "      <td>N</td>\n",
              "    </tr>\n",
              "    <tr>\n",
              "      <th>3</th>\n",
              "      <td>10000.0</td>\n",
              "      <td>0.1640</td>\n",
              "      <td>353.55</td>\n",
              "      <td>RENT</td>\n",
              "      <td>92000.0</td>\n",
              "      <td>Verified</td>\n",
              "      <td>Mar-2019</td>\n",
              "      <td>low_risk</td>\n",
              "      <td>n</td>\n",
              "      <td>31.44</td>\n",
              "      <td>0.0</td>\n",
              "      <td>1.0</td>\n",
              "      <td>10.0</td>\n",
              "      <td>1.0</td>\n",
              "      <td>17996.0</td>\n",
              "      <td>23.0</td>\n",
              "      <td>w</td>\n",
              "      <td>9719.34</td>\n",
              "      <td>9719.34</td>\n",
              "      <td>335.33</td>\n",
              "      <td>335.33</td>\n",
              "      <td>280.66</td>\n",
              "      <td>54.67</td>\n",
              "      <td>0.0</td>\n",
              "      <td>0.0</td>\n",
              "      <td>0.0</td>\n",
              "      <td>353.55</td>\n",
              "      <td>May-2019</td>\n",
              "      <td>0.0</td>\n",
              "      <td>1.0</td>\n",
              "      <td>Individual</td>\n",
              "      <td>0.0</td>\n",
              "      <td>0.0</td>\n",
              "      <td>68784.0</td>\n",
              "      <td>0.0</td>\n",
              "      <td>4.0</td>\n",
              "      <td>1.0</td>\n",
              "      <td>3.0</td>\n",
              "      <td>9.0</td>\n",
              "      <td>50788.0</td>\n",
              "      <td>...</td>\n",
              "      <td>3.0</td>\n",
              "      <td>5.0</td>\n",
              "      <td>4.0</td>\n",
              "      <td>4.0</td>\n",
              "      <td>6878.0</td>\n",
              "      <td>4899.0</td>\n",
              "      <td>75.1</td>\n",
              "      <td>0.0</td>\n",
              "      <td>0.0</td>\n",
              "      <td>100.0</td>\n",
              "      <td>89.0</td>\n",
              "      <td>24.0</td>\n",
              "      <td>9.0</td>\n",
              "      <td>0.0</td>\n",
              "      <td>34.0</td>\n",
              "      <td>0.0</td>\n",
              "      <td>0.0</td>\n",
              "      <td>4.0</td>\n",
              "      <td>6.0</td>\n",
              "      <td>4.0</td>\n",
              "      <td>4.0</td>\n",
              "      <td>17.0</td>\n",
              "      <td>6.0</td>\n",
              "      <td>6.0</td>\n",
              "      <td>6.0</td>\n",
              "      <td>10.0</td>\n",
              "      <td>0.0</td>\n",
              "      <td>0.0</td>\n",
              "      <td>0.0</td>\n",
              "      <td>1.0</td>\n",
              "      <td>100.0</td>\n",
              "      <td>50.0</td>\n",
              "      <td>1.0</td>\n",
              "      <td>0.0</td>\n",
              "      <td>99506.0</td>\n",
              "      <td>68784.0</td>\n",
              "      <td>19700.0</td>\n",
              "      <td>76506.0</td>\n",
              "      <td>N</td>\n",
              "      <td>N</td>\n",
              "    </tr>\n",
              "    <tr>\n",
              "      <th>4</th>\n",
              "      <td>22000.0</td>\n",
              "      <td>0.1474</td>\n",
              "      <td>520.39</td>\n",
              "      <td>MORTGAGE</td>\n",
              "      <td>52000.0</td>\n",
              "      <td>Not Verified</td>\n",
              "      <td>Mar-2019</td>\n",
              "      <td>low_risk</td>\n",
              "      <td>n</td>\n",
              "      <td>18.76</td>\n",
              "      <td>0.0</td>\n",
              "      <td>1.0</td>\n",
              "      <td>14.0</td>\n",
              "      <td>0.0</td>\n",
              "      <td>9091.0</td>\n",
              "      <td>28.0</td>\n",
              "      <td>w</td>\n",
              "      <td>21614.73</td>\n",
              "      <td>21614.73</td>\n",
              "      <td>484.36</td>\n",
              "      <td>484.36</td>\n",
              "      <td>385.27</td>\n",
              "      <td>99.09</td>\n",
              "      <td>0.0</td>\n",
              "      <td>0.0</td>\n",
              "      <td>0.0</td>\n",
              "      <td>520.39</td>\n",
              "      <td>May-2019</td>\n",
              "      <td>0.0</td>\n",
              "      <td>1.0</td>\n",
              "      <td>Individual</td>\n",
              "      <td>0.0</td>\n",
              "      <td>0.0</td>\n",
              "      <td>177745.0</td>\n",
              "      <td>0.0</td>\n",
              "      <td>1.0</td>\n",
              "      <td>0.0</td>\n",
              "      <td>2.0</td>\n",
              "      <td>14.0</td>\n",
              "      <td>16828.0</td>\n",
              "      <td>...</td>\n",
              "      <td>2.0</td>\n",
              "      <td>0.0</td>\n",
              "      <td>2.0</td>\n",
              "      <td>4.0</td>\n",
              "      <td>13673.0</td>\n",
              "      <td>19699.0</td>\n",
              "      <td>28.6</td>\n",
              "      <td>0.0</td>\n",
              "      <td>0.0</td>\n",
              "      <td>67.0</td>\n",
              "      <td>138.0</td>\n",
              "      <td>11.0</td>\n",
              "      <td>11.0</td>\n",
              "      <td>4.0</td>\n",
              "      <td>11.0</td>\n",
              "      <td>0.0</td>\n",
              "      <td>0.0</td>\n",
              "      <td>4.0</td>\n",
              "      <td>6.0</td>\n",
              "      <td>7.0</td>\n",
              "      <td>11.0</td>\n",
              "      <td>6.0</td>\n",
              "      <td>12.0</td>\n",
              "      <td>18.0</td>\n",
              "      <td>6.0</td>\n",
              "      <td>14.0</td>\n",
              "      <td>0.0</td>\n",
              "      <td>0.0</td>\n",
              "      <td>0.0</td>\n",
              "      <td>1.0</td>\n",
              "      <td>100.0</td>\n",
              "      <td>0.0</td>\n",
              "      <td>0.0</td>\n",
              "      <td>0.0</td>\n",
              "      <td>219750.0</td>\n",
              "      <td>25919.0</td>\n",
              "      <td>27600.0</td>\n",
              "      <td>20000.0</td>\n",
              "      <td>N</td>\n",
              "      <td>N</td>\n",
              "    </tr>\n",
              "  </tbody>\n",
              "</table>\n",
              "<p>5 rows × 86 columns</p>\n",
              "</div>"
            ],
            "text/plain": [
              "   loan_amnt  int_rate  ...  hardship_flag debt_settlement_flag\n",
              "0    10500.0    0.1719  ...              N                    N\n",
              "1    25000.0    0.2000  ...              N                    N\n",
              "2    20000.0    0.2000  ...              N                    N\n",
              "3    10000.0    0.1640  ...              N                    N\n",
              "4    22000.0    0.1474  ...              N                    N\n",
              "\n",
              "[5 rows x 86 columns]"
            ]
          },
          "metadata": {
            "tags": []
          },
          "execution_count": 36
        }
      ]
    },
    {
      "cell_type": "code",
      "metadata": {
        "colab": {
          "base_uri": "https://localhost:8080/"
        },
        "id": "NhEoX3q8ZckR",
        "outputId": "ec3c52d1-a88f-45dd-dd44-f1386f598509"
      },
      "source": [
        "# Print all the column and their data type as a dictionary\n",
        "print(dict(df.dtypes))"
      ],
      "execution_count": 37,
      "outputs": [
        {
          "output_type": "stream",
          "text": [
            "{'loan_amnt': dtype('float64'), 'int_rate': dtype('float64'), 'installment': dtype('float64'), 'home_ownership': dtype('O'), 'annual_inc': dtype('float64'), 'verification_status': dtype('O'), 'issue_d': dtype('O'), 'loan_status': dtype('O'), 'pymnt_plan': dtype('O'), 'dti': dtype('float64'), 'delinq_2yrs': dtype('float64'), 'inq_last_6mths': dtype('float64'), 'open_acc': dtype('float64'), 'pub_rec': dtype('float64'), 'revol_bal': dtype('float64'), 'total_acc': dtype('float64'), 'initial_list_status': dtype('O'), 'out_prncp': dtype('float64'), 'out_prncp_inv': dtype('float64'), 'total_pymnt': dtype('float64'), 'total_pymnt_inv': dtype('float64'), 'total_rec_prncp': dtype('float64'), 'total_rec_int': dtype('float64'), 'total_rec_late_fee': dtype('float64'), 'recoveries': dtype('float64'), 'collection_recovery_fee': dtype('float64'), 'last_pymnt_amnt': dtype('float64'), 'next_pymnt_d': dtype('O'), 'collections_12_mths_ex_med': dtype('float64'), 'policy_code': dtype('float64'), 'application_type': dtype('O'), 'acc_now_delinq': dtype('float64'), 'tot_coll_amt': dtype('float64'), 'tot_cur_bal': dtype('float64'), 'open_acc_6m': dtype('float64'), 'open_act_il': dtype('float64'), 'open_il_12m': dtype('float64'), 'open_il_24m': dtype('float64'), 'mths_since_rcnt_il': dtype('float64'), 'total_bal_il': dtype('float64'), 'il_util': dtype('float64'), 'open_rv_12m': dtype('float64'), 'open_rv_24m': dtype('float64'), 'max_bal_bc': dtype('float64'), 'all_util': dtype('float64'), 'total_rev_hi_lim': dtype('float64'), 'inq_fi': dtype('float64'), 'total_cu_tl': dtype('float64'), 'inq_last_12m': dtype('float64'), 'acc_open_past_24mths': dtype('float64'), 'avg_cur_bal': dtype('float64'), 'bc_open_to_buy': dtype('float64'), 'bc_util': dtype('float64'), 'chargeoff_within_12_mths': dtype('float64'), 'delinq_amnt': dtype('float64'), 'mo_sin_old_il_acct': dtype('float64'), 'mo_sin_old_rev_tl_op': dtype('float64'), 'mo_sin_rcnt_rev_tl_op': dtype('float64'), 'mo_sin_rcnt_tl': dtype('float64'), 'mort_acc': dtype('float64'), 'mths_since_recent_bc': dtype('float64'), 'mths_since_recent_inq': dtype('float64'), 'num_accts_ever_120_pd': dtype('float64'), 'num_actv_bc_tl': dtype('float64'), 'num_actv_rev_tl': dtype('float64'), 'num_bc_sats': dtype('float64'), 'num_bc_tl': dtype('float64'), 'num_il_tl': dtype('float64'), 'num_op_rev_tl': dtype('float64'), 'num_rev_accts': dtype('float64'), 'num_rev_tl_bal_gt_0': dtype('float64'), 'num_sats': dtype('float64'), 'num_tl_120dpd_2m': dtype('float64'), 'num_tl_30dpd': dtype('float64'), 'num_tl_90g_dpd_24m': dtype('float64'), 'num_tl_op_past_12m': dtype('float64'), 'pct_tl_nvr_dlq': dtype('float64'), 'percent_bc_gt_75': dtype('float64'), 'pub_rec_bankruptcies': dtype('float64'), 'tax_liens': dtype('float64'), 'tot_hi_cred_lim': dtype('float64'), 'total_bal_ex_mort': dtype('float64'), 'total_bc_limit': dtype('float64'), 'total_il_high_credit_limit': dtype('float64'), 'hardship_flag': dtype('O'), 'debt_settlement_flag': dtype('O')}\n"
          ],
          "name": "stdout"
        }
      ]
    },
    {
      "cell_type": "code",
      "metadata": {
        "colab": {
          "base_uri": "https://localhost:8080/"
        },
        "id": "rUcARby7ZckS",
        "outputId": "d4e09e77-eb9f-488a-d828-8b2dd9bac9b1"
      },
      "source": [
        "# Print only columns that are type object (string)\n",
        "for column in df:\n",
        "    if df.dtypes[column]==np.object:\n",
        "        print(f'{column} : column type is - {df.dtypes[column]}')\n",
        "    "
      ],
      "execution_count": 38,
      "outputs": [
        {
          "output_type": "stream",
          "text": [
            "home_ownership : column type is - object\n",
            "verification_status : column type is - object\n",
            "issue_d : column type is - object\n",
            "loan_status : column type is - object\n",
            "pymnt_plan : column type is - object\n",
            "initial_list_status : column type is - object\n",
            "next_pymnt_d : column type is - object\n",
            "application_type : column type is - object\n",
            "hardship_flag : column type is - object\n",
            "debt_settlement_flag : column type is - object\n"
          ],
          "name": "stdout"
        }
      ]
    },
    {
      "cell_type": "markdown",
      "metadata": {
        "id": "XSV_Wg9VZckS"
      },
      "source": [
        "# Split the Data into Training and Testing"
      ]
    },
    {
      "cell_type": "code",
      "metadata": {
        "id": "da3XWjzmZckT"
      },
      "source": [
        "# Create our features\n",
        "X = pd.get_dummies(df, columns=[\"home_ownership\", \"verification_status\", \"issue_d\", \n",
        "                                \"pymnt_plan\",\"initial_list_status\",\"next_pymnt_d\", \"application_type\", \n",
        "                                \"hardship_flag\", \"debt_settlement_flag\"]).drop(\"loan_status\", axis=1)\n",
        "\n",
        "# Create our target\n",
        "y = df[\"loan_status\"]"
      ],
      "execution_count": 39,
      "outputs": []
    },
    {
      "cell_type": "code",
      "metadata": {
        "colab": {
          "base_uri": "https://localhost:8080/",
          "height": 361
        },
        "id": "28OcQ8-kZckT",
        "outputId": "14da6f07-6255-44f4-e1cc-97cefef05262"
      },
      "source": [
        "X.describe()"
      ],
      "execution_count": 40,
      "outputs": [
        {
          "output_type": "execute_result",
          "data": {
            "text/html": [
              "<div>\n",
              "<style scoped>\n",
              "    .dataframe tbody tr th:only-of-type {\n",
              "        vertical-align: middle;\n",
              "    }\n",
              "\n",
              "    .dataframe tbody tr th {\n",
              "        vertical-align: top;\n",
              "    }\n",
              "\n",
              "    .dataframe thead th {\n",
              "        text-align: right;\n",
              "    }\n",
              "</style>\n",
              "<table border=\"1\" class=\"dataframe\">\n",
              "  <thead>\n",
              "    <tr style=\"text-align: right;\">\n",
              "      <th></th>\n",
              "      <th>loan_amnt</th>\n",
              "      <th>int_rate</th>\n",
              "      <th>installment</th>\n",
              "      <th>annual_inc</th>\n",
              "      <th>dti</th>\n",
              "      <th>delinq_2yrs</th>\n",
              "      <th>inq_last_6mths</th>\n",
              "      <th>open_acc</th>\n",
              "      <th>pub_rec</th>\n",
              "      <th>revol_bal</th>\n",
              "      <th>total_acc</th>\n",
              "      <th>out_prncp</th>\n",
              "      <th>out_prncp_inv</th>\n",
              "      <th>total_pymnt</th>\n",
              "      <th>total_pymnt_inv</th>\n",
              "      <th>total_rec_prncp</th>\n",
              "      <th>total_rec_int</th>\n",
              "      <th>total_rec_late_fee</th>\n",
              "      <th>recoveries</th>\n",
              "      <th>collection_recovery_fee</th>\n",
              "      <th>last_pymnt_amnt</th>\n",
              "      <th>collections_12_mths_ex_med</th>\n",
              "      <th>policy_code</th>\n",
              "      <th>acc_now_delinq</th>\n",
              "      <th>tot_coll_amt</th>\n",
              "      <th>tot_cur_bal</th>\n",
              "      <th>open_acc_6m</th>\n",
              "      <th>open_act_il</th>\n",
              "      <th>open_il_12m</th>\n",
              "      <th>open_il_24m</th>\n",
              "      <th>mths_since_rcnt_il</th>\n",
              "      <th>total_bal_il</th>\n",
              "      <th>il_util</th>\n",
              "      <th>open_rv_12m</th>\n",
              "      <th>open_rv_24m</th>\n",
              "      <th>max_bal_bc</th>\n",
              "      <th>all_util</th>\n",
              "      <th>total_rev_hi_lim</th>\n",
              "      <th>inq_fi</th>\n",
              "      <th>total_cu_tl</th>\n",
              "      <th>...</th>\n",
              "      <th>num_actv_bc_tl</th>\n",
              "      <th>num_actv_rev_tl</th>\n",
              "      <th>num_bc_sats</th>\n",
              "      <th>num_bc_tl</th>\n",
              "      <th>num_il_tl</th>\n",
              "      <th>num_op_rev_tl</th>\n",
              "      <th>num_rev_accts</th>\n",
              "      <th>num_rev_tl_bal_gt_0</th>\n",
              "      <th>num_sats</th>\n",
              "      <th>num_tl_120dpd_2m</th>\n",
              "      <th>num_tl_30dpd</th>\n",
              "      <th>num_tl_90g_dpd_24m</th>\n",
              "      <th>num_tl_op_past_12m</th>\n",
              "      <th>pct_tl_nvr_dlq</th>\n",
              "      <th>percent_bc_gt_75</th>\n",
              "      <th>pub_rec_bankruptcies</th>\n",
              "      <th>tax_liens</th>\n",
              "      <th>tot_hi_cred_lim</th>\n",
              "      <th>total_bal_ex_mort</th>\n",
              "      <th>total_bc_limit</th>\n",
              "      <th>total_il_high_credit_limit</th>\n",
              "      <th>home_ownership_ANY</th>\n",
              "      <th>home_ownership_MORTGAGE</th>\n",
              "      <th>home_ownership_OWN</th>\n",
              "      <th>home_ownership_RENT</th>\n",
              "      <th>verification_status_Not Verified</th>\n",
              "      <th>verification_status_Source Verified</th>\n",
              "      <th>verification_status_Verified</th>\n",
              "      <th>issue_d_Feb-2019</th>\n",
              "      <th>issue_d_Jan-2019</th>\n",
              "      <th>issue_d_Mar-2019</th>\n",
              "      <th>pymnt_plan_n</th>\n",
              "      <th>initial_list_status_f</th>\n",
              "      <th>initial_list_status_w</th>\n",
              "      <th>next_pymnt_d_Apr-2019</th>\n",
              "      <th>next_pymnt_d_May-2019</th>\n",
              "      <th>application_type_Individual</th>\n",
              "      <th>application_type_Joint App</th>\n",
              "      <th>hardship_flag_N</th>\n",
              "      <th>debt_settlement_flag_N</th>\n",
              "    </tr>\n",
              "  </thead>\n",
              "  <tbody>\n",
              "    <tr>\n",
              "      <th>count</th>\n",
              "      <td>68817.000000</td>\n",
              "      <td>68817.000000</td>\n",
              "      <td>68817.000000</td>\n",
              "      <td>6.881700e+04</td>\n",
              "      <td>68817.000000</td>\n",
              "      <td>68817.000000</td>\n",
              "      <td>68817.000000</td>\n",
              "      <td>68817.000000</td>\n",
              "      <td>68817.000000</td>\n",
              "      <td>68817.000000</td>\n",
              "      <td>68817.000000</td>\n",
              "      <td>68817.000000</td>\n",
              "      <td>68817.000000</td>\n",
              "      <td>68817.000000</td>\n",
              "      <td>68817.000000</td>\n",
              "      <td>68817.000000</td>\n",
              "      <td>68817.000000</td>\n",
              "      <td>68817.000000</td>\n",
              "      <td>68817.0</td>\n",
              "      <td>68817.0</td>\n",
              "      <td>68817.000000</td>\n",
              "      <td>68817.000000</td>\n",
              "      <td>68817.0</td>\n",
              "      <td>68817.0</td>\n",
              "      <td>68817.000000</td>\n",
              "      <td>6.881700e+04</td>\n",
              "      <td>68817.000000</td>\n",
              "      <td>68817.000000</td>\n",
              "      <td>68817.000000</td>\n",
              "      <td>68817.000000</td>\n",
              "      <td>68817.000000</td>\n",
              "      <td>6.881700e+04</td>\n",
              "      <td>68817.00000</td>\n",
              "      <td>68817.000000</td>\n",
              "      <td>68817.000000</td>\n",
              "      <td>68817.000000</td>\n",
              "      <td>68817.000000</td>\n",
              "      <td>68817.000000</td>\n",
              "      <td>68817.000000</td>\n",
              "      <td>68817.000000</td>\n",
              "      <td>...</td>\n",
              "      <td>68817.000000</td>\n",
              "      <td>68817.000000</td>\n",
              "      <td>68817.000000</td>\n",
              "      <td>68817.000000</td>\n",
              "      <td>68817.000000</td>\n",
              "      <td>68817.000000</td>\n",
              "      <td>68817.000000</td>\n",
              "      <td>68817.000000</td>\n",
              "      <td>68817.000000</td>\n",
              "      <td>68817.0</td>\n",
              "      <td>68817.0</td>\n",
              "      <td>68817.000000</td>\n",
              "      <td>68817.000000</td>\n",
              "      <td>68817.000000</td>\n",
              "      <td>68817.000000</td>\n",
              "      <td>68817.000000</td>\n",
              "      <td>68817.0</td>\n",
              "      <td>6.881700e+04</td>\n",
              "      <td>6.881700e+04</td>\n",
              "      <td>68817.000000</td>\n",
              "      <td>6.881700e+04</td>\n",
              "      <td>68817.000000</td>\n",
              "      <td>68817.000000</td>\n",
              "      <td>68817.000000</td>\n",
              "      <td>68817.000000</td>\n",
              "      <td>68817.000000</td>\n",
              "      <td>68817.000000</td>\n",
              "      <td>68817.000000</td>\n",
              "      <td>68817.000000</td>\n",
              "      <td>68817.000000</td>\n",
              "      <td>68817.000000</td>\n",
              "      <td>68817.0</td>\n",
              "      <td>68817.000000</td>\n",
              "      <td>68817.000000</td>\n",
              "      <td>68817.000000</td>\n",
              "      <td>68817.000000</td>\n",
              "      <td>68817.000000</td>\n",
              "      <td>68817.000000</td>\n",
              "      <td>68817.0</td>\n",
              "      <td>68817.0</td>\n",
              "    </tr>\n",
              "    <tr>\n",
              "      <th>mean</th>\n",
              "      <td>16677.594562</td>\n",
              "      <td>0.127718</td>\n",
              "      <td>480.652863</td>\n",
              "      <td>8.821371e+04</td>\n",
              "      <td>21.778153</td>\n",
              "      <td>0.217766</td>\n",
              "      <td>0.497697</td>\n",
              "      <td>12.587340</td>\n",
              "      <td>0.126030</td>\n",
              "      <td>17604.142828</td>\n",
              "      <td>24.666347</td>\n",
              "      <td>16018.845833</td>\n",
              "      <td>16015.919519</td>\n",
              "      <td>970.639473</td>\n",
              "      <td>970.431151</td>\n",
              "      <td>658.748750</td>\n",
              "      <td>311.855687</td>\n",
              "      <td>0.035072</td>\n",
              "      <td>0.0</td>\n",
              "      <td>0.0</td>\n",
              "      <td>517.202218</td>\n",
              "      <td>0.016188</td>\n",
              "      <td>1.0</td>\n",
              "      <td>0.0</td>\n",
              "      <td>188.664298</td>\n",
              "      <td>1.634976e+05</td>\n",
              "      <td>1.023047</td>\n",
              "      <td>3.290481</td>\n",
              "      <td>0.843730</td>\n",
              "      <td>1.909644</td>\n",
              "      <td>14.303152</td>\n",
              "      <td>4.324044e+04</td>\n",
              "      <td>69.21191</td>\n",
              "      <td>1.240042</td>\n",
              "      <td>2.622245</td>\n",
              "      <td>6297.491710</td>\n",
              "      <td>55.702472</td>\n",
              "      <td>42431.895360</td>\n",
              "      <td>1.382071</td>\n",
              "      <td>1.687795</td>\n",
              "      <td>...</td>\n",
              "      <td>3.806123</td>\n",
              "      <td>5.648038</td>\n",
              "      <td>5.135156</td>\n",
              "      <td>7.414403</td>\n",
              "      <td>9.500153</td>\n",
              "      <td>8.630818</td>\n",
              "      <td>13.517663</td>\n",
              "      <td>5.653036</td>\n",
              "      <td>12.571995</td>\n",
              "      <td>0.0</td>\n",
              "      <td>0.0</td>\n",
              "      <td>0.052138</td>\n",
              "      <td>2.219423</td>\n",
              "      <td>95.057627</td>\n",
              "      <td>30.626217</td>\n",
              "      <td>0.125972</td>\n",
              "      <td>0.0</td>\n",
              "      <td>2.100332e+05</td>\n",
              "      <td>6.133843e+04</td>\n",
              "      <td>29734.128558</td>\n",
              "      <td>5.572240e+04</td>\n",
              "      <td>0.009285</td>\n",
              "      <td>0.526309</td>\n",
              "      <td>0.106747</td>\n",
              "      <td>0.357659</td>\n",
              "      <td>0.478007</td>\n",
              "      <td>0.373992</td>\n",
              "      <td>0.148001</td>\n",
              "      <td>0.371696</td>\n",
              "      <td>0.451066</td>\n",
              "      <td>0.177238</td>\n",
              "      <td>1.0</td>\n",
              "      <td>0.123879</td>\n",
              "      <td>0.876121</td>\n",
              "      <td>0.383161</td>\n",
              "      <td>0.616839</td>\n",
              "      <td>0.860340</td>\n",
              "      <td>0.139660</td>\n",
              "      <td>1.0</td>\n",
              "      <td>1.0</td>\n",
              "    </tr>\n",
              "    <tr>\n",
              "      <th>std</th>\n",
              "      <td>10277.348590</td>\n",
              "      <td>0.048130</td>\n",
              "      <td>288.062432</td>\n",
              "      <td>1.155800e+05</td>\n",
              "      <td>20.199244</td>\n",
              "      <td>0.718367</td>\n",
              "      <td>0.758122</td>\n",
              "      <td>6.022869</td>\n",
              "      <td>0.336797</td>\n",
              "      <td>21835.880400</td>\n",
              "      <td>12.318917</td>\n",
              "      <td>10002.695495</td>\n",
              "      <td>10004.985940</td>\n",
              "      <td>1229.563301</td>\n",
              "      <td>1229.569864</td>\n",
              "      <td>1126.237377</td>\n",
              "      <td>279.786954</td>\n",
              "      <td>1.086720</td>\n",
              "      <td>0.0</td>\n",
              "      <td>0.0</td>\n",
              "      <td>816.021053</td>\n",
              "      <td>0.134774</td>\n",
              "      <td>0.0</td>\n",
              "      <td>0.0</td>\n",
              "      <td>1808.457195</td>\n",
              "      <td>1.723699e+05</td>\n",
              "      <td>1.176782</td>\n",
              "      <td>2.965579</td>\n",
              "      <td>0.970543</td>\n",
              "      <td>1.544994</td>\n",
              "      <td>13.972619</td>\n",
              "      <td>4.956130e+04</td>\n",
              "      <td>22.33711</td>\n",
              "      <td>1.471745</td>\n",
              "      <td>2.502608</td>\n",
              "      <td>5702.281757</td>\n",
              "      <td>18.495480</td>\n",
              "      <td>37166.229316</td>\n",
              "      <td>1.543220</td>\n",
              "      <td>2.852664</td>\n",
              "      <td>...</td>\n",
              "      <td>2.464504</td>\n",
              "      <td>3.470941</td>\n",
              "      <td>3.230651</td>\n",
              "      <td>4.581371</td>\n",
              "      <td>7.573846</td>\n",
              "      <td>5.056994</td>\n",
              "      <td>8.026158</td>\n",
              "      <td>3.472679</td>\n",
              "      <td>6.021318</td>\n",
              "      <td>0.0</td>\n",
              "      <td>0.0</td>\n",
              "      <td>0.390633</td>\n",
              "      <td>1.897432</td>\n",
              "      <td>8.326426</td>\n",
              "      <td>33.631463</td>\n",
              "      <td>0.336732</td>\n",
              "      <td>0.0</td>\n",
              "      <td>1.928088e+05</td>\n",
              "      <td>5.738798e+04</td>\n",
              "      <td>26795.394232</td>\n",
              "      <td>5.095845e+04</td>\n",
              "      <td>0.095914</td>\n",
              "      <td>0.499311</td>\n",
              "      <td>0.308793</td>\n",
              "      <td>0.479314</td>\n",
              "      <td>0.499520</td>\n",
              "      <td>0.483865</td>\n",
              "      <td>0.355104</td>\n",
              "      <td>0.483261</td>\n",
              "      <td>0.497603</td>\n",
              "      <td>0.381873</td>\n",
              "      <td>0.0</td>\n",
              "      <td>0.329446</td>\n",
              "      <td>0.329446</td>\n",
              "      <td>0.486161</td>\n",
              "      <td>0.486161</td>\n",
              "      <td>0.346637</td>\n",
              "      <td>0.346637</td>\n",
              "      <td>0.0</td>\n",
              "      <td>0.0</td>\n",
              "    </tr>\n",
              "    <tr>\n",
              "      <th>min</th>\n",
              "      <td>1000.000000</td>\n",
              "      <td>0.060000</td>\n",
              "      <td>30.890000</td>\n",
              "      <td>4.000000e+01</td>\n",
              "      <td>0.000000</td>\n",
              "      <td>0.000000</td>\n",
              "      <td>0.000000</td>\n",
              "      <td>2.000000</td>\n",
              "      <td>0.000000</td>\n",
              "      <td>0.000000</td>\n",
              "      <td>3.000000</td>\n",
              "      <td>0.000000</td>\n",
              "      <td>0.000000</td>\n",
              "      <td>0.000000</td>\n",
              "      <td>0.000000</td>\n",
              "      <td>0.000000</td>\n",
              "      <td>0.000000</td>\n",
              "      <td>0.000000</td>\n",
              "      <td>0.0</td>\n",
              "      <td>0.0</td>\n",
              "      <td>0.000000</td>\n",
              "      <td>0.000000</td>\n",
              "      <td>1.0</td>\n",
              "      <td>0.0</td>\n",
              "      <td>0.000000</td>\n",
              "      <td>2.350000e+02</td>\n",
              "      <td>0.000000</td>\n",
              "      <td>0.000000</td>\n",
              "      <td>0.000000</td>\n",
              "      <td>0.000000</td>\n",
              "      <td>0.000000</td>\n",
              "      <td>1.000000e+00</td>\n",
              "      <td>0.00000</td>\n",
              "      <td>0.000000</td>\n",
              "      <td>0.000000</td>\n",
              "      <td>0.000000</td>\n",
              "      <td>1.000000</td>\n",
              "      <td>200.000000</td>\n",
              "      <td>0.000000</td>\n",
              "      <td>0.000000</td>\n",
              "      <td>...</td>\n",
              "      <td>0.000000</td>\n",
              "      <td>0.000000</td>\n",
              "      <td>0.000000</td>\n",
              "      <td>1.000000</td>\n",
              "      <td>1.000000</td>\n",
              "      <td>1.000000</td>\n",
              "      <td>2.000000</td>\n",
              "      <td>0.000000</td>\n",
              "      <td>2.000000</td>\n",
              "      <td>0.0</td>\n",
              "      <td>0.0</td>\n",
              "      <td>0.000000</td>\n",
              "      <td>0.000000</td>\n",
              "      <td>20.000000</td>\n",
              "      <td>0.000000</td>\n",
              "      <td>0.000000</td>\n",
              "      <td>0.0</td>\n",
              "      <td>3.600000e+03</td>\n",
              "      <td>2.350000e+02</td>\n",
              "      <td>100.000000</td>\n",
              "      <td>1.270000e+02</td>\n",
              "      <td>0.000000</td>\n",
              "      <td>0.000000</td>\n",
              "      <td>0.000000</td>\n",
              "      <td>0.000000</td>\n",
              "      <td>0.000000</td>\n",
              "      <td>0.000000</td>\n",
              "      <td>0.000000</td>\n",
              "      <td>0.000000</td>\n",
              "      <td>0.000000</td>\n",
              "      <td>0.000000</td>\n",
              "      <td>1.0</td>\n",
              "      <td>0.000000</td>\n",
              "      <td>0.000000</td>\n",
              "      <td>0.000000</td>\n",
              "      <td>0.000000</td>\n",
              "      <td>0.000000</td>\n",
              "      <td>0.000000</td>\n",
              "      <td>1.0</td>\n",
              "      <td>1.0</td>\n",
              "    </tr>\n",
              "    <tr>\n",
              "      <th>25%</th>\n",
              "      <td>9000.000000</td>\n",
              "      <td>0.088100</td>\n",
              "      <td>265.730000</td>\n",
              "      <td>5.000000e+04</td>\n",
              "      <td>13.890000</td>\n",
              "      <td>0.000000</td>\n",
              "      <td>0.000000</td>\n",
              "      <td>8.000000</td>\n",
              "      <td>0.000000</td>\n",
              "      <td>6293.000000</td>\n",
              "      <td>16.000000</td>\n",
              "      <td>8578.800000</td>\n",
              "      <td>8576.500000</td>\n",
              "      <td>403.760000</td>\n",
              "      <td>403.550000</td>\n",
              "      <td>250.370000</td>\n",
              "      <td>115.440000</td>\n",
              "      <td>0.000000</td>\n",
              "      <td>0.0</td>\n",
              "      <td>0.0</td>\n",
              "      <td>267.110000</td>\n",
              "      <td>0.000000</td>\n",
              "      <td>1.0</td>\n",
              "      <td>0.0</td>\n",
              "      <td>0.000000</td>\n",
              "      <td>3.570000e+04</td>\n",
              "      <td>0.000000</td>\n",
              "      <td>2.000000</td>\n",
              "      <td>0.000000</td>\n",
              "      <td>1.000000</td>\n",
              "      <td>6.000000</td>\n",
              "      <td>1.422300e+04</td>\n",
              "      <td>56.00000</td>\n",
              "      <td>0.000000</td>\n",
              "      <td>1.000000</td>\n",
              "      <td>2558.000000</td>\n",
              "      <td>43.000000</td>\n",
              "      <td>19200.000000</td>\n",
              "      <td>0.000000</td>\n",
              "      <td>0.000000</td>\n",
              "      <td>...</td>\n",
              "      <td>2.000000</td>\n",
              "      <td>3.000000</td>\n",
              "      <td>3.000000</td>\n",
              "      <td>4.000000</td>\n",
              "      <td>4.000000</td>\n",
              "      <td>5.000000</td>\n",
              "      <td>8.000000</td>\n",
              "      <td>3.000000</td>\n",
              "      <td>8.000000</td>\n",
              "      <td>0.0</td>\n",
              "      <td>0.0</td>\n",
              "      <td>0.000000</td>\n",
              "      <td>1.000000</td>\n",
              "      <td>93.000000</td>\n",
              "      <td>0.000000</td>\n",
              "      <td>0.000000</td>\n",
              "      <td>0.0</td>\n",
              "      <td>6.697700e+04</td>\n",
              "      <td>2.650300e+04</td>\n",
              "      <td>11600.000000</td>\n",
              "      <td>2.288000e+04</td>\n",
              "      <td>0.000000</td>\n",
              "      <td>0.000000</td>\n",
              "      <td>0.000000</td>\n",
              "      <td>0.000000</td>\n",
              "      <td>0.000000</td>\n",
              "      <td>0.000000</td>\n",
              "      <td>0.000000</td>\n",
              "      <td>0.000000</td>\n",
              "      <td>0.000000</td>\n",
              "      <td>0.000000</td>\n",
              "      <td>1.0</td>\n",
              "      <td>0.000000</td>\n",
              "      <td>1.000000</td>\n",
              "      <td>0.000000</td>\n",
              "      <td>0.000000</td>\n",
              "      <td>1.000000</td>\n",
              "      <td>0.000000</td>\n",
              "      <td>1.0</td>\n",
              "      <td>1.0</td>\n",
              "    </tr>\n",
              "    <tr>\n",
              "      <th>50%</th>\n",
              "      <td>15000.000000</td>\n",
              "      <td>0.118000</td>\n",
              "      <td>404.560000</td>\n",
              "      <td>7.300000e+04</td>\n",
              "      <td>19.760000</td>\n",
              "      <td>0.000000</td>\n",
              "      <td>0.000000</td>\n",
              "      <td>11.000000</td>\n",
              "      <td>0.000000</td>\n",
              "      <td>12068.000000</td>\n",
              "      <td>23.000000</td>\n",
              "      <td>14067.750000</td>\n",
              "      <td>14061.030000</td>\n",
              "      <td>710.790000</td>\n",
              "      <td>710.790000</td>\n",
              "      <td>449.890000</td>\n",
              "      <td>225.250000</td>\n",
              "      <td>0.000000</td>\n",
              "      <td>0.0</td>\n",
              "      <td>0.0</td>\n",
              "      <td>408.520000</td>\n",
              "      <td>0.000000</td>\n",
              "      <td>1.0</td>\n",
              "      <td>0.0</td>\n",
              "      <td>0.000000</td>\n",
              "      <td>9.960600e+04</td>\n",
              "      <td>1.000000</td>\n",
              "      <td>2.000000</td>\n",
              "      <td>1.000000</td>\n",
              "      <td>2.000000</td>\n",
              "      <td>11.000000</td>\n",
              "      <td>2.862600e+04</td>\n",
              "      <td>71.00000</td>\n",
              "      <td>1.000000</td>\n",
              "      <td>2.000000</td>\n",
              "      <td>4874.000000</td>\n",
              "      <td>56.000000</td>\n",
              "      <td>32800.000000</td>\n",
              "      <td>1.000000</td>\n",
              "      <td>1.000000</td>\n",
              "      <td>...</td>\n",
              "      <td>3.000000</td>\n",
              "      <td>5.000000</td>\n",
              "      <td>4.000000</td>\n",
              "      <td>6.000000</td>\n",
              "      <td>7.000000</td>\n",
              "      <td>8.000000</td>\n",
              "      <td>12.000000</td>\n",
              "      <td>5.000000</td>\n",
              "      <td>11.000000</td>\n",
              "      <td>0.0</td>\n",
              "      <td>0.0</td>\n",
              "      <td>0.000000</td>\n",
              "      <td>2.000000</td>\n",
              "      <td>100.000000</td>\n",
              "      <td>20.000000</td>\n",
              "      <td>0.000000</td>\n",
              "      <td>0.0</td>\n",
              "      <td>1.467100e+05</td>\n",
              "      <td>4.535700e+04</td>\n",
              "      <td>22100.000000</td>\n",
              "      <td>4.200000e+04</td>\n",
              "      <td>0.000000</td>\n",
              "      <td>1.000000</td>\n",
              "      <td>0.000000</td>\n",
              "      <td>0.000000</td>\n",
              "      <td>0.000000</td>\n",
              "      <td>0.000000</td>\n",
              "      <td>0.000000</td>\n",
              "      <td>0.000000</td>\n",
              "      <td>0.000000</td>\n",
              "      <td>0.000000</td>\n",
              "      <td>1.0</td>\n",
              "      <td>0.000000</td>\n",
              "      <td>1.000000</td>\n",
              "      <td>0.000000</td>\n",
              "      <td>1.000000</td>\n",
              "      <td>1.000000</td>\n",
              "      <td>0.000000</td>\n",
              "      <td>1.0</td>\n",
              "      <td>1.0</td>\n",
              "    </tr>\n",
              "    <tr>\n",
              "      <th>75%</th>\n",
              "      <td>24000.000000</td>\n",
              "      <td>0.155700</td>\n",
              "      <td>648.100000</td>\n",
              "      <td>1.040000e+05</td>\n",
              "      <td>26.660000</td>\n",
              "      <td>0.000000</td>\n",
              "      <td>1.000000</td>\n",
              "      <td>16.000000</td>\n",
              "      <td>0.000000</td>\n",
              "      <td>21735.000000</td>\n",
              "      <td>31.000000</td>\n",
              "      <td>22860.700000</td>\n",
              "      <td>22860.490000</td>\n",
              "      <td>1214.600000</td>\n",
              "      <td>1214.590000</td>\n",
              "      <td>762.170000</td>\n",
              "      <td>415.710000</td>\n",
              "      <td>0.000000</td>\n",
              "      <td>0.0</td>\n",
              "      <td>0.0</td>\n",
              "      <td>652.580000</td>\n",
              "      <td>0.000000</td>\n",
              "      <td>1.0</td>\n",
              "      <td>0.0</td>\n",
              "      <td>0.000000</td>\n",
              "      <td>2.472060e+05</td>\n",
              "      <td>2.000000</td>\n",
              "      <td>4.000000</td>\n",
              "      <td>1.000000</td>\n",
              "      <td>3.000000</td>\n",
              "      <td>18.000000</td>\n",
              "      <td>5.406500e+04</td>\n",
              "      <td>85.00000</td>\n",
              "      <td>2.000000</td>\n",
              "      <td>4.000000</td>\n",
              "      <td>8321.000000</td>\n",
              "      <td>68.000000</td>\n",
              "      <td>54100.000000</td>\n",
              "      <td>2.000000</td>\n",
              "      <td>2.000000</td>\n",
              "      <td>...</td>\n",
              "      <td>5.000000</td>\n",
              "      <td>7.000000</td>\n",
              "      <td>7.000000</td>\n",
              "      <td>10.000000</td>\n",
              "      <td>12.000000</td>\n",
              "      <td>11.000000</td>\n",
              "      <td>17.000000</td>\n",
              "      <td>7.000000</td>\n",
              "      <td>16.000000</td>\n",
              "      <td>0.0</td>\n",
              "      <td>0.0</td>\n",
              "      <td>0.000000</td>\n",
              "      <td>3.000000</td>\n",
              "      <td>100.000000</td>\n",
              "      <td>50.000000</td>\n",
              "      <td>0.000000</td>\n",
              "      <td>0.0</td>\n",
              "      <td>3.036400e+05</td>\n",
              "      <td>7.657000e+04</td>\n",
              "      <td>39300.000000</td>\n",
              "      <td>7.249900e+04</td>\n",
              "      <td>0.000000</td>\n",
              "      <td>1.000000</td>\n",
              "      <td>0.000000</td>\n",
              "      <td>1.000000</td>\n",
              "      <td>1.000000</td>\n",
              "      <td>1.000000</td>\n",
              "      <td>0.000000</td>\n",
              "      <td>1.000000</td>\n",
              "      <td>1.000000</td>\n",
              "      <td>0.000000</td>\n",
              "      <td>1.0</td>\n",
              "      <td>0.000000</td>\n",
              "      <td>1.000000</td>\n",
              "      <td>1.000000</td>\n",
              "      <td>1.000000</td>\n",
              "      <td>1.000000</td>\n",
              "      <td>0.000000</td>\n",
              "      <td>1.0</td>\n",
              "      <td>1.0</td>\n",
              "    </tr>\n",
              "    <tr>\n",
              "      <th>max</th>\n",
              "      <td>40000.000000</td>\n",
              "      <td>0.308400</td>\n",
              "      <td>1676.230000</td>\n",
              "      <td>8.797500e+06</td>\n",
              "      <td>999.000000</td>\n",
              "      <td>18.000000</td>\n",
              "      <td>5.000000</td>\n",
              "      <td>72.000000</td>\n",
              "      <td>4.000000</td>\n",
              "      <td>587191.000000</td>\n",
              "      <td>164.000000</td>\n",
              "      <td>40000.000000</td>\n",
              "      <td>40000.000000</td>\n",
              "      <td>41418.981165</td>\n",
              "      <td>41418.980000</td>\n",
              "      <td>40000.000000</td>\n",
              "      <td>2735.400000</td>\n",
              "      <td>75.240000</td>\n",
              "      <td>0.0</td>\n",
              "      <td>0.0</td>\n",
              "      <td>40500.340000</td>\n",
              "      <td>4.000000</td>\n",
              "      <td>1.0</td>\n",
              "      <td>0.0</td>\n",
              "      <td>159199.000000</td>\n",
              "      <td>3.140082e+06</td>\n",
              "      <td>14.000000</td>\n",
              "      <td>63.000000</td>\n",
              "      <td>6.000000</td>\n",
              "      <td>22.000000</td>\n",
              "      <td>389.000000</td>\n",
              "      <td>1.260281e+06</td>\n",
              "      <td>313.00000</td>\n",
              "      <td>18.000000</td>\n",
              "      <td>44.000000</td>\n",
              "      <td>207484.000000</td>\n",
              "      <td>216.000000</td>\n",
              "      <td>759500.000000</td>\n",
              "      <td>29.000000</td>\n",
              "      <td>70.000000</td>\n",
              "      <td>...</td>\n",
              "      <td>26.000000</td>\n",
              "      <td>43.000000</td>\n",
              "      <td>43.000000</td>\n",
              "      <td>60.000000</td>\n",
              "      <td>149.000000</td>\n",
              "      <td>70.000000</td>\n",
              "      <td>98.000000</td>\n",
              "      <td>43.000000</td>\n",
              "      <td>72.000000</td>\n",
              "      <td>0.0</td>\n",
              "      <td>0.0</td>\n",
              "      <td>18.000000</td>\n",
              "      <td>19.000000</td>\n",
              "      <td>100.000000</td>\n",
              "      <td>100.000000</td>\n",
              "      <td>4.000000</td>\n",
              "      <td>0.0</td>\n",
              "      <td>3.292782e+06</td>\n",
              "      <td>1.295455e+06</td>\n",
              "      <td>509400.000000</td>\n",
              "      <td>1.426964e+06</td>\n",
              "      <td>1.000000</td>\n",
              "      <td>1.000000</td>\n",
              "      <td>1.000000</td>\n",
              "      <td>1.000000</td>\n",
              "      <td>1.000000</td>\n",
              "      <td>1.000000</td>\n",
              "      <td>1.000000</td>\n",
              "      <td>1.000000</td>\n",
              "      <td>1.000000</td>\n",
              "      <td>1.000000</td>\n",
              "      <td>1.0</td>\n",
              "      <td>1.000000</td>\n",
              "      <td>1.000000</td>\n",
              "      <td>1.000000</td>\n",
              "      <td>1.000000</td>\n",
              "      <td>1.000000</td>\n",
              "      <td>1.000000</td>\n",
              "      <td>1.0</td>\n",
              "      <td>1.0</td>\n",
              "    </tr>\n",
              "  </tbody>\n",
              "</table>\n",
              "<p>8 rows × 95 columns</p>\n",
              "</div>"
            ],
            "text/plain": [
              "          loan_amnt      int_rate  ...  hardship_flag_N  debt_settlement_flag_N\n",
              "count  68817.000000  68817.000000  ...          68817.0                 68817.0\n",
              "mean   16677.594562      0.127718  ...              1.0                     1.0\n",
              "std    10277.348590      0.048130  ...              0.0                     0.0\n",
              "min     1000.000000      0.060000  ...              1.0                     1.0\n",
              "25%     9000.000000      0.088100  ...              1.0                     1.0\n",
              "50%    15000.000000      0.118000  ...              1.0                     1.0\n",
              "75%    24000.000000      0.155700  ...              1.0                     1.0\n",
              "max    40000.000000      0.308400  ...              1.0                     1.0\n",
              "\n",
              "[8 rows x 95 columns]"
            ]
          },
          "metadata": {
            "tags": []
          },
          "execution_count": 40
        }
      ]
    },
    {
      "cell_type": "code",
      "metadata": {
        "colab": {
          "base_uri": "https://localhost:8080/"
        },
        "id": "29NrHVzIZckT",
        "outputId": "9c770a47-5677-4e5a-b350-5864ce990e2d"
      },
      "source": [
        "# Check the balance of our target values\n",
        "y.value_counts()"
      ],
      "execution_count": 41,
      "outputs": [
        {
          "output_type": "execute_result",
          "data": {
            "text/plain": [
              "low_risk     68470\n",
              "high_risk      347\n",
              "Name: loan_status, dtype: int64"
            ]
          },
          "metadata": {
            "tags": []
          },
          "execution_count": 41
        }
      ]
    },
    {
      "cell_type": "code",
      "metadata": {
        "id": "jd7yrgasZckU"
      },
      "source": [
        "from sklearn.model_selection import train_test_split\n",
        "X_train, X_test, y_train, y_test = train_test_split(X, \n",
        "                                                    y, \n",
        "                                                    random_state=1, \n",
        "                                                    stratify=y)"
      ],
      "execution_count": 42,
      "outputs": []
    },
    {
      "cell_type": "markdown",
      "metadata": {
        "id": "7Msl1NCYZckU"
      },
      "source": [
        "# Oversampling\n",
        "\n",
        "In this section, you will compare two oversampling algorithms to determine which algorithm results in the best performance. You will oversample the data using the naive random oversampling algorithm and the SMOTE algorithm. For each algorithm, be sure to complete the folliowing steps:\n",
        "\n",
        "1. View the count of the target classes using `Counter` from the collections library. \n",
        "3. Use the resampled data to train a logistic regression model.\n",
        "3. Calculate the balanced accuracy score from sklearn.metrics.\n",
        "4. Print the confusion matrix from sklearn.metrics.\n",
        "5. Generate a classication report using the `imbalanced_classification_report` from imbalanced-learn.\n",
        "\n",
        "Note: Use a random state of 1 for each sampling algorithm to ensure consistency between tests"
      ]
    },
    {
      "cell_type": "markdown",
      "metadata": {
        "id": "2NdUFW0kZckU"
      },
      "source": [
        "### Naive Random Oversampling"
      ]
    },
    {
      "cell_type": "code",
      "metadata": {
        "colab": {
          "base_uri": "https://localhost:8080/"
        },
        "id": "kpF1n1AgZckV",
        "outputId": "f6cb1a31-96ca-40c1-926d-fad8fa0292b4"
      },
      "source": [
        "# Resample the training data with the RandomOversampler\n",
        "from imblearn import over_sampling, under_sampling\n",
        "from imblearn.over_sampling import RandomOverSampler\n",
        "ros = RandomOverSampler(random_state=1)\n",
        "X_resampled, y_resampled = ros.fit_resample(X_train, y_train)\n",
        "\n",
        "Counter(y_resampled)"
      ],
      "execution_count": 43,
      "outputs": [
        {
          "output_type": "execute_result",
          "data": {
            "text/plain": [
              "Counter({'high_risk': 51352, 'low_risk': 51352})"
            ]
          },
          "metadata": {
            "tags": []
          },
          "execution_count": 43
        }
      ]
    },
    {
      "cell_type": "code",
      "metadata": {
        "colab": {
          "base_uri": "https://localhost:8080/"
        },
        "id": "RXImwBVEZckV",
        "outputId": "ba07bb6d-6b5c-4729-e442-6422aef586ce"
      },
      "source": [
        "# Train the Logistic Regression model using the resampled data\n",
        "from sklearn.linear_model import LogisticRegression\n",
        "logReg_model = LogisticRegression(solver='lbfgs', random_state=1)\n",
        "logReg_model.fit(X_resampled, y_resampled)"
      ],
      "execution_count": 44,
      "outputs": [
        {
          "output_type": "execute_result",
          "data": {
            "text/plain": [
              "LogisticRegression(C=1.0, class_weight=None, dual=False, fit_intercept=True,\n",
              "                   intercept_scaling=1, l1_ratio=None, max_iter=100,\n",
              "                   multi_class='auto', n_jobs=None, penalty='l2',\n",
              "                   random_state=1, solver='lbfgs', tol=0.0001, verbose=0,\n",
              "                   warm_start=False)"
            ]
          },
          "metadata": {
            "tags": []
          },
          "execution_count": 44
        }
      ]
    },
    {
      "cell_type": "code",
      "metadata": {
        "colab": {
          "base_uri": "https://localhost:8080/"
        },
        "id": "gbw9_ePfZckW",
        "outputId": "6f741152-18e1-4639-f1ec-defafc7c46b8"
      },
      "source": [
        "# Predict outcomes for test data set\n",
        "y_predictions = logReg_model.predict(X_test)\n",
        "pd.DataFrame({\"Prediction\": y_predictions, \"Actual\": y_test})\n",
        "\n",
        "# Calculated the balanced accuracy score\n",
        "from sklearn.metrics import accuracy_score\n",
        "accuracy_score(y_test, y_predictions)"
      ],
      "execution_count": 45,
      "outputs": [
        {
          "output_type": "execute_result",
          "data": {
            "text/plain": [
              "0.6674803836094159"
            ]
          },
          "metadata": {
            "tags": []
          },
          "execution_count": 45
        }
      ]
    },
    {
      "cell_type": "code",
      "metadata": {
        "colab": {
          "base_uri": "https://localhost:8080/"
        },
        "id": "4x67YSnwZckW",
        "outputId": "a5a85e83-d0dd-4af9-9dbd-c4a5d7d53c19"
      },
      "source": [
        "# Display the confusion matrix\n",
        "from sklearn.metrics import confusion_matrix\n",
        "cm = confusion_matrix(y_test, y_predictions)\n",
        "cm"
      ],
      "execution_count": 46,
      "outputs": [
        {
          "output_type": "execute_result",
          "data": {
            "text/plain": [
              "array([[   56,    31],\n",
              "       [ 5690, 11428]])"
            ]
          },
          "metadata": {
            "tags": []
          },
          "execution_count": 46
        }
      ]
    },
    {
      "cell_type": "code",
      "metadata": {
        "colab": {
          "base_uri": "https://localhost:8080/"
        },
        "id": "FdNg6yoHZckW",
        "outputId": "8d84c618-01a3-49bc-f3cf-e73e6cb01ee7"
      },
      "source": [
        "# Print the imbalanced classification report\n",
        "from imblearn.metrics import classification_report_imbalanced\n",
        "print(classification_report_imbalanced(y_test, y_predictions))"
      ],
      "execution_count": 47,
      "outputs": [
        {
          "output_type": "stream",
          "text": [
            "                   pre       rec       spe        f1       geo       iba       sup\n",
            "\n",
            "  high_risk       0.01      0.64      0.67      0.02      0.66      0.43        87\n",
            "   low_risk       1.00      0.67      0.64      0.80      0.66      0.43     17118\n",
            "\n",
            "avg / total       0.99      0.67      0.64      0.80      0.66      0.43     17205\n",
            "\n"
          ],
          "name": "stdout"
        }
      ]
    },
    {
      "cell_type": "markdown",
      "metadata": {
        "id": "iqEyRzeRZckX"
      },
      "source": [
        "### SMOTE Oversampling"
      ]
    },
    {
      "cell_type": "code",
      "metadata": {
        "colab": {
          "base_uri": "https://localhost:8080/"
        },
        "id": "RkqfxTWnZckX",
        "outputId": "18dfdc75-a77e-4bb6-c7bf-a1a088416596"
      },
      "source": [
        "# Resample the training data with SMOTE\n",
        "from imblearn.over_sampling import SMOTE\n",
        "\n",
        "smote_transform = SMOTE(random_state=1)\n",
        "X_resampled, y_resampled = smote_transform.fit_resample(X_train, y_train)\n",
        "Counter(y_resampled)"
      ],
      "execution_count": 48,
      "outputs": [
        {
          "output_type": "execute_result",
          "data": {
            "text/plain": [
              "Counter({'high_risk': 51352, 'low_risk': 51352})"
            ]
          },
          "metadata": {
            "tags": []
          },
          "execution_count": 48
        }
      ]
    },
    {
      "cell_type": "code",
      "metadata": {
        "colab": {
          "base_uri": "https://localhost:8080/"
        },
        "id": "EV5cm63oZckX",
        "outputId": "2f1a89c9-9de1-4537-cd5c-0394d73e9ee1"
      },
      "source": [
        "# Train the Logistic Regression model using the resampled data\n",
        "logReg_model.fit(X_resampled, y_resampled)"
      ],
      "execution_count": 49,
      "outputs": [
        {
          "output_type": "execute_result",
          "data": {
            "text/plain": [
              "LogisticRegression(C=1.0, class_weight=None, dual=False, fit_intercept=True,\n",
              "                   intercept_scaling=1, l1_ratio=None, max_iter=100,\n",
              "                   multi_class='auto', n_jobs=None, penalty='l2',\n",
              "                   random_state=1, solver='lbfgs', tol=0.0001, verbose=0,\n",
              "                   warm_start=False)"
            ]
          },
          "metadata": {
            "tags": []
          },
          "execution_count": 49
        }
      ]
    },
    {
      "cell_type": "code",
      "metadata": {
        "colab": {
          "base_uri": "https://localhost:8080/"
        },
        "id": "mBGtZyY6ZckY",
        "outputId": "6d35ba1c-1dfb-4e3e-a157-ce90e1a7502a"
      },
      "source": [
        "# Calculated the balanced accuracy score\n",
        "y_predict_smote = logReg_model.predict(X_test)\n",
        "accuracy_score(y_test, y_predict_smote)"
      ],
      "execution_count": 50,
      "outputs": [
        {
          "output_type": "execute_result",
          "data": {
            "text/plain": [
              "0.6505666957279861"
            ]
          },
          "metadata": {
            "tags": []
          },
          "execution_count": 50
        }
      ]
    },
    {
      "cell_type": "code",
      "metadata": {
        "colab": {
          "base_uri": "https://localhost:8080/"
        },
        "id": "iO1sim-iZckY",
        "outputId": "a978af50-6991-4472-9d7c-545142d565fc"
      },
      "source": [
        "# Display the confusion matrix\n",
        "cm_smote = confusion_matrix(y_test, y_predict_smote)\n",
        "cm_smote"
      ],
      "execution_count": 51,
      "outputs": [
        {
          "output_type": "execute_result",
          "data": {
            "text/plain": [
              "array([[   54,    33],\n",
              "       [ 5979, 11139]])"
            ]
          },
          "metadata": {
            "tags": []
          },
          "execution_count": 51
        }
      ]
    },
    {
      "cell_type": "code",
      "metadata": {
        "colab": {
          "base_uri": "https://localhost:8080/"
        },
        "id": "yvuTWs_UZckY",
        "outputId": "75133a6e-74eb-4620-d9d1-99b7f5010b02"
      },
      "source": [
        "# Print the imbalanced classification report\n",
        "print(classification_report_imbalanced(y_test, y_predict_smote))"
      ],
      "execution_count": 52,
      "outputs": [
        {
          "output_type": "stream",
          "text": [
            "                   pre       rec       spe        f1       geo       iba       sup\n",
            "\n",
            "  high_risk       0.01      0.62      0.65      0.02      0.64      0.40        87\n",
            "   low_risk       1.00      0.65      0.62      0.79      0.64      0.41     17118\n",
            "\n",
            "avg / total       0.99      0.65      0.62      0.78      0.64      0.41     17205\n",
            "\n"
          ],
          "name": "stdout"
        }
      ]
    },
    {
      "cell_type": "markdown",
      "metadata": {
        "id": "2E0zByb6ZckY"
      },
      "source": [
        "# Undersampling\n",
        "\n",
        "In this section, you will test an undersampling algorithms to determine which algorithm results in the best performance compared to the oversampling algorithms above. You will undersample the data using the Cluster Centroids algorithm and complete the folliowing steps:\n",
        "\n",
        "1. View the count of the target classes using `Counter` from the collections library. \n",
        "3. Use the resampled data to train a logistic regression model.\n",
        "3. Calculate the balanced accuracy score from sklearn.metrics.\n",
        "4. Print the confusion matrix from sklearn.metrics.\n",
        "5. Generate a classication report using the `imbalanced_classification_report` from imbalanced-learn.\n",
        "\n",
        "Note: Use a random state of 1 for each sampling algorithm to ensure consistency between tests"
      ]
    },
    {
      "cell_type": "code",
      "metadata": {
        "colab": {
          "base_uri": "https://localhost:8080/"
        },
        "id": "AvCejfPeZckZ",
        "outputId": "81807119-7b5c-4c99-f0a2-3d3d752af986"
      },
      "source": [
        "# Resample the data using the ClusterCentroids resampler\n",
        "# Warning: This is a large dataset, and this step may take some time to complete\n",
        "from imblearn.under_sampling import ClusterCentroids\n",
        "cc = ClusterCentroids(random_state=1)\n",
        "X_resampled, y_resampled = cc.fit_resample(X_train, y_train)\n",
        "Counter(y_resampled)"
      ],
      "execution_count": 53,
      "outputs": [
        {
          "output_type": "execute_result",
          "data": {
            "text/plain": [
              "Counter({'high_risk': 260, 'low_risk': 260})"
            ]
          },
          "metadata": {
            "tags": []
          },
          "execution_count": 53
        }
      ]
    },
    {
      "cell_type": "code",
      "metadata": {
        "colab": {
          "base_uri": "https://localhost:8080/"
        },
        "id": "9iLvEeedZckZ",
        "outputId": "22cf11d7-1570-4e2a-e75a-f809ab02d688"
      },
      "source": [
        "# Train the Logistic Regression model using the resampled data\n",
        "logReg_model.fit(X_resampled, y_resampled)"
      ],
      "execution_count": 54,
      "outputs": [
        {
          "output_type": "execute_result",
          "data": {
            "text/plain": [
              "LogisticRegression(C=1.0, class_weight=None, dual=False, fit_intercept=True,\n",
              "                   intercept_scaling=1, l1_ratio=None, max_iter=100,\n",
              "                   multi_class='auto', n_jobs=None, penalty='l2',\n",
              "                   random_state=1, solver='lbfgs', tol=0.0001, verbose=0,\n",
              "                   warm_start=False)"
            ]
          },
          "metadata": {
            "tags": []
          },
          "execution_count": 54
        }
      ]
    },
    {
      "cell_type": "code",
      "metadata": {
        "colab": {
          "base_uri": "https://localhost:8080/"
        },
        "id": "wb3EkpuSZckZ",
        "outputId": "505c73eb-ce72-43b4-f61b-c007aa379616"
      },
      "source": [
        "# Calculated the balanced accuracy score\n",
        "y_predict_cc = logReg_model.predict(X_test)\n",
        "accuracy_score(y_test, y_predict_cc)"
      ],
      "execution_count": 55,
      "outputs": [
        {
          "output_type": "execute_result",
          "data": {
            "text/plain": [
              "0.4143562917756466"
            ]
          },
          "metadata": {
            "tags": []
          },
          "execution_count": 55
        }
      ]
    },
    {
      "cell_type": "code",
      "metadata": {
        "colab": {
          "base_uri": "https://localhost:8080/"
        },
        "id": "MdteOq46Zcka",
        "outputId": "3f707585-73d1-4db3-e4e9-575acfe85603"
      },
      "source": [
        "# Display the confusion matrix\n",
        "cm_cc = confusion_matrix(y_test, y_predict_cc)\n",
        "cm_cc"
      ],
      "execution_count": 56,
      "outputs": [
        {
          "output_type": "execute_result",
          "data": {
            "text/plain": [
              "array([[   55,    32],\n",
              "       [10044,  7074]])"
            ]
          },
          "metadata": {
            "tags": []
          },
          "execution_count": 56
        }
      ]
    },
    {
      "cell_type": "code",
      "metadata": {
        "colab": {
          "base_uri": "https://localhost:8080/"
        },
        "id": "eM8aBckkZcka",
        "outputId": "72fb8b2d-ff6a-4baf-b9f3-9cdd98a5373a"
      },
      "source": [
        "# Print the imbalanced classification report\n",
        "print(classification_report_imbalanced(y_test, y_predict_cc))"
      ],
      "execution_count": 57,
      "outputs": [
        {
          "output_type": "stream",
          "text": [
            "                   pre       rec       spe        f1       geo       iba       sup\n",
            "\n",
            "  high_risk       0.01      0.63      0.41      0.01      0.51      0.27        87\n",
            "   low_risk       1.00      0.41      0.63      0.58      0.51      0.26     17118\n",
            "\n",
            "avg / total       0.99      0.41      0.63      0.58      0.51      0.26     17205\n",
            "\n"
          ],
          "name": "stdout"
        }
      ]
    },
    {
      "cell_type": "markdown",
      "metadata": {
        "id": "3WJyQm3FZcka"
      },
      "source": [
        "# Combination (Over and Under) Sampling\n",
        "\n",
        "In this section, you will test a combination over- and under-sampling algorithm to determine if the algorithm results in the best performance compared to the other sampling algorithms above. You will resample the data using the SMOTEENN algorithm and complete the folliowing steps:\n",
        "\n",
        "1. View the count of the target classes using `Counter` from the collections library. \n",
        "3. Use the resampled data to train a logistic regression model.\n",
        "3. Calculate the balanced accuracy score from sklearn.metrics.\n",
        "4. Print the confusion matrix from sklearn.metrics.\n",
        "5. Generate a classication report using the `imbalanced_classification_report` from imbalanced-learn.\n",
        "\n",
        "Note: Use a random state of 1 for each sampling algorithm to ensure consistency between tests"
      ]
    },
    {
      "cell_type": "code",
      "metadata": {
        "colab": {
          "base_uri": "https://localhost:8080/"
        },
        "id": "hD9YfbpIZcka",
        "outputId": "8a75ce54-484d-459d-8d06-4eaf2fa1e897"
      },
      "source": [
        "# Resample the training data with SMOTEENN\n",
        "# Warning: This is a large dataset, and this step may take some time to complete\n",
        "from imblearn.combine import SMOTEENN\n",
        "\n",
        "smote_enn = SMOTEENN(random_state=1)\n",
        "X_resampled, y_resampled = smote_enn.fit_resample(X_train, y_train)\n",
        "Counter(y_resampled)"
      ],
      "execution_count": 58,
      "outputs": [
        {
          "output_type": "execute_result",
          "data": {
            "text/plain": [
              "Counter({'high_risk': 51351, 'low_risk': 46389})"
            ]
          },
          "metadata": {
            "tags": []
          },
          "execution_count": 58
        }
      ]
    },
    {
      "cell_type": "code",
      "metadata": {
        "colab": {
          "base_uri": "https://localhost:8080/"
        },
        "id": "KGw9UWdgZckb",
        "outputId": "21e0bdf6-458f-40c7-e56b-dc2e367e3982"
      },
      "source": [
        "# Train the Logistic Regression model using the resampled data\n",
        "logReg_model.fit(X_resampled, y_resampled)"
      ],
      "execution_count": 59,
      "outputs": [
        {
          "output_type": "execute_result",
          "data": {
            "text/plain": [
              "LogisticRegression(C=1.0, class_weight=None, dual=False, fit_intercept=True,\n",
              "                   intercept_scaling=1, l1_ratio=None, max_iter=100,\n",
              "                   multi_class='auto', n_jobs=None, penalty='l2',\n",
              "                   random_state=1, solver='lbfgs', tol=0.0001, verbose=0,\n",
              "                   warm_start=False)"
            ]
          },
          "metadata": {
            "tags": []
          },
          "execution_count": 59
        }
      ]
    },
    {
      "cell_type": "code",
      "metadata": {
        "colab": {
          "base_uri": "https://localhost:8080/"
        },
        "id": "Dl_eyq1qZckb",
        "outputId": "f68a2135-ccf4-43d9-b5fd-a9611798dba2"
      },
      "source": [
        "# Calculated the balanced accuracy score\n",
        "y_predict_enn = logReg_model.predict(X_test)\n",
        "accuracy_score(y_test, y_predict_enn)"
      ],
      "execution_count": 60,
      "outputs": [
        {
          "output_type": "execute_result",
          "data": {
            "text/plain": [
              "0.5505376344086022"
            ]
          },
          "metadata": {
            "tags": []
          },
          "execution_count": 60
        }
      ]
    },
    {
      "cell_type": "code",
      "metadata": {
        "colab": {
          "base_uri": "https://localhost:8080/"
        },
        "id": "YlEN5p4kZckb",
        "outputId": "ca357969-2e68-45fb-cd6e-4d2286e37fe9"
      },
      "source": [
        "# Display the confusion matrix\n",
        "cm_enn = confusion_matrix(y_test, y_predict_enn)\n",
        "cm_enn"
      ],
      "execution_count": 61,
      "outputs": [
        {
          "output_type": "execute_result",
          "data": {
            "text/plain": [
              "array([[  62,   25],\n",
              "       [7708, 9410]])"
            ]
          },
          "metadata": {
            "tags": []
          },
          "execution_count": 61
        }
      ]
    },
    {
      "cell_type": "code",
      "metadata": {
        "colab": {
          "base_uri": "https://localhost:8080/"
        },
        "id": "YBcc8j1hZckb",
        "outputId": "04686c48-24d8-4988-ff36-7dfb365d06cc"
      },
      "source": [
        "# Print the imbalanced classification report\n",
        "print(classification_report_imbalanced(y_test, y_predict_enn))"
      ],
      "execution_count": 62,
      "outputs": [
        {
          "output_type": "stream",
          "text": [
            "                   pre       rec       spe        f1       geo       iba       sup\n",
            "\n",
            "  high_risk       0.01      0.71      0.55      0.02      0.63      0.40        87\n",
            "   low_risk       1.00      0.55      0.71      0.71      0.63      0.39     17118\n",
            "\n",
            "avg / total       0.99      0.55      0.71      0.71      0.63      0.39     17205\n",
            "\n"
          ],
          "name": "stdout"
        }
      ]
    },
    {
      "cell_type": "code",
      "metadata": {
        "id": "qMnAoTvgZckc"
      },
      "source": [
        ""
      ],
      "execution_count": 62,
      "outputs": []
    }
  ]
}